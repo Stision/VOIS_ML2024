{
 "cells": [
  {
   "cell_type": "markdown",
   "id": "bc7fdbb0-b24c-4edf-b92b-2fad81bad6a2",
   "metadata": {},
   "source": [
    "**Libraries used**"
   ]
  },
  {
   "cell_type": "code",
   "execution_count": 73,
   "id": "041f269d-df50-4106-a62b-af0980b9b57f",
   "metadata": {},
   "outputs": [],
   "source": [
    "import pandas as pd\n",
    "import numpy as np\n",
    "import pandas as pd\n",
    "import numpy as np\n",
    "import pickle\n",
    "import seaborn as sns\n",
    "import matplotlib.pyplot as plt\n",
    "from sklearn.model_selection import train_test_split, KFold, cross_val_score\n",
    "from sklearn.inspection import permutation_importance\n",
    "from sklearn.linear_model import LinearRegression\n",
    "from sklearn.metrics import mean_squared_error\n",
    "from sklearn.ensemble import RandomForestRegressor, GradientBoostingRegressor\n",
    "from sklearn.cluster import KMeans\n",
    "from sklearn.model_selection import GridSearchCV\n",
    "from sklearn.compose import ColumnTransformer\n",
    "from sklearn.preprocessing import OneHotEncoder\n",
    "from sklearn.pipeline import Pipeline\n",
    "\n",
    "import warnings\n",
    "warnings.filterwarnings('ignore')"
   ]
  },
  {
   "cell_type": "markdown",
   "id": "6fb1feda-82d0-4438-90d7-91e4924f3fef",
   "metadata": {},
   "source": [
    "**Part 1: Data cleaning and file formatting** (exercise 9)"
   ]
  },
  {
   "cell_type": "markdown",
   "id": "a3c1f63a-b1b9-479b-bdff-1fa10869b231",
   "metadata": {},
   "source": [
    "**#1.1) Verifying name of cultivars from both input files**"
   ]
  },
  {
   "cell_type": "markdown",
   "id": "564d2b2c-9071-4806-8534-ce033de1897a",
   "metadata": {},
   "source": [
    "Before starting working with values from the files, we must verify if the names of the cultivars from both *data.csv* and *cultivars-description.ods* coincide!"
   ]
  },
  {
   "cell_type": "code",
   "execution_count": 18,
   "id": "0c84f4a1-e10e-4280-9ee2-3b06235e1c72",
   "metadata": {},
   "outputs": [],
   "source": [
    "cultivars_df = pd.read_csv('data/data.csv')\n",
    "description_df = pd.read_excel('data/cultivars-description.ods', engine = 'odf')"
   ]
  },
  {
   "cell_type": "code",
   "execution_count": 19,
   "id": "862505dc-62ee-449b-8a05-3e994598729d",
   "metadata": {},
   "outputs": [
    {
     "name": "stdout",
     "output_type": "stream",
     "text": [
      "   Season    Cultivar  Repetition     PH    IFP    NLP     NGP   NGL   NS  \\\n",
      "0       1  NEO 760 CE           1  58.80  15.20   98.2  177.80  1.81  5.2   \n",
      "1       1  NEO 760 CE           2  58.60  13.40  102.0  195.00  1.85  7.2   \n",
      "2       1  NEO 760 CE           3  63.40  17.20  100.4  203.00  2.02  6.8   \n",
      "3       1  NEO 760 CE           4  60.27  15.27  100.2  191.93  1.89  6.4   \n",
      "4       1   MANU IPRO           1  81.20  18.00   98.8  173.00  1.75  7.4   \n",
      "\n",
      "      MHG       GY  \n",
      "0  152.20  3232.82  \n",
      "1  141.69  3517.36  \n",
      "2  148.81  3391.46  \n",
      "3  148.50  3312.58  \n",
      "4  145.59  3230.99  \n",
      "(320, 11)\n"
     ]
    }
   ],
   "source": [
    "print(cultivars_df.head())\n",
    "print(cultivars_df.shape) #320 lines, 11 columns"
   ]
  },
  {
   "cell_type": "code",
   "execution_count": 20,
   "id": "a0a5d0cb-f28e-4ed1-b2a1-5ec6c0b5ff16",
   "metadata": {},
   "outputs": [
    {
     "name": "stdout",
     "output_type": "stream",
     "text": [
      "       Cultivars  Maturation group  Seeds per meter/linear  \\\n",
      "0  FTR 3190 IPRO               9.0                    12.5   \n",
      "1  FTR 4288 IPRO               8.8                    11.0   \n",
      "2   NK 8770 IPRO               8.7                    16.0   \n",
      "3      M 8606I2X               8.6                    10.0   \n",
      "4    M 8644 IPRO               8.6                    11.0   \n",
      "\n",
      "   Density per meter/linear  \n",
      "0                    250000  \n",
      "1                    220000  \n",
      "2                    320000  \n",
      "3                    200000  \n",
      "4                    220000  \n",
      "(40, 4)\n"
     ]
    }
   ],
   "source": [
    "print(description_df.head())\n",
    "print(description_df.shape) #40 lines, 4 columns"
   ]
  },
  {
   "cell_type": "markdown",
   "id": "49bb6add-4031-4b5c-935b-cb37c0beeda5",
   "metadata": {},
   "source": [
    "To verify the names, we will use the following code:"
   ]
  },
  {
   "cell_type": "code",
   "execution_count": 21,
   "id": "084a257e-d5cd-4bd4-aadc-4bd8e656ae10",
   "metadata": {},
   "outputs": [
    {
     "name": "stdout",
     "output_type": "stream",
     "text": [
      "['M 8606I2X', 'BRASMAX OLÍMPO IPRO', 'LAT 1330BT.11', 'GNS7900IPRO - AMPLA', 'GNS7700IPRO']\n"
     ]
    }
   ],
   "source": [
    "not_found_cultivars = []\n",
    "for term in description_df['Cultivars']:\n",
    "    if term not in cultivars_df['Cultivar'].values:\n",
    "        not_found_cultivars.append(term)\n",
    "print(not_found_cultivars)"
   ]
  },
  {
   "cell_type": "markdown",
   "id": "3ec487d6-da7e-491e-91bd-6ff3a1b87884",
   "metadata": {},
   "source": [
    "So 5 cultivars from cultivars-description.ods weren't found in data.csv. However, if we look into the data.csv file, we will see that this is related to some typos:\n",
    "- M 8606I2X -> MONSOY M8606I2X\n",
    "- BRASMAX OLÍMPO IPRO -> BRASMAX OLIMPO IPRO\n",
    "- LAT 1330BT.11 -> LAT 1330BT\n",
    "- GNS7900IPRO - AMPLA -> GNS7900 IPRO - AMPLA\n",
    "- GNS7700IPRO -> GNS7700 IPRO\n",
    "\n",
    "Being only 5 errors, I corrected the errors manually, resulting in a new file: <font color=green>cultivars-description_corrected.ods</font>."
   ]
  },
  {
   "cell_type": "markdown",
   "id": "7dcee7c9-9139-4a0e-b54e-93e581fc5515",
   "metadata": {},
   "source": [
    "**#1.2) Concatenating files** (data.csv & cultivars-description_corrected.ods)"
   ]
  },
  {
   "cell_type": "markdown",
   "id": "47754ab9-8f83-44ef-89eb-6f15eb005d3a",
   "metadata": {},
   "source": [
    "When trying to predict a value, we should use all the data that we have! For this, we will concatenate both files, as it follows:"
   ]
  },
  {
   "cell_type": "code",
   "execution_count": 26,
   "id": "f24b8bd6-66a6-4018-a9c7-224ac9a4346d",
   "metadata": {},
   "outputs": [
    {
     "name": "stdout",
     "output_type": "stream",
     "text": [
      "   Season    Cultivar  Repetition     PH    IFP    NLP     NGP   NGL   NS  \\\n",
      "0       1  NEO 760 CE           1  58.80  15.20   98.2  177.80  1.81  5.2   \n",
      "1       1  NEO 760 CE           2  58.60  13.40  102.0  195.00  1.85  7.2   \n",
      "2       1  NEO 760 CE           3  63.40  17.20  100.4  203.00  2.02  6.8   \n",
      "3       1  NEO 760 CE           4  60.27  15.27  100.2  191.93  1.89  6.4   \n",
      "4       1   MANU IPRO           1  81.20  18.00   98.8  173.00  1.75  7.4   \n",
      "\n",
      "      MHG       GY  Maturation group  Seeds per meter/linear  \\\n",
      "0  152.20  3232.82               7.6                    20.0   \n",
      "1  141.69  3517.36               7.6                    20.0   \n",
      "2  148.81  3391.46               7.6                    20.0   \n",
      "3  148.50  3312.58               7.6                    20.0   \n",
      "4  145.59  3230.99               7.6                    14.0   \n",
      "\n",
      "   Density per meter/linear  \n",
      "0                    400000  \n",
      "1                    400000  \n",
      "2                    400000  \n",
      "3                    400000  \n",
      "4                    280000  \n"
     ]
    }
   ],
   "source": [
    "description_df = pd.read_excel('data/cultivars-description_corrected.ods', engine = 'odf')\n",
    "\n",
    "description_list = []\n",
    "for term_cultivar in cultivars_df['Cultivar']:\n",
    "    for term_description in description_df['Cultivars']:\n",
    "        if term_description == term_cultivar:\n",
    "            temp = description_df[description_df.eq(term_description).any(axis=1)]\n",
    "            description_dict = {\"Maturation group\": temp.iloc[0, 1], \"Seeds per meter/linear\": temp.iloc[0, 2], \"Density per meter/linear\": temp.iloc[0, 3]}\n",
    "            description_list.append(description_dict)\n",
    "cultivars_unified_df = pd.concat([cultivars_df, pd.DataFrame(description_list)], axis=1)\n",
    "print(cultivars_unified_df.head())"
   ]
  },
  {
   "cell_type": "markdown",
   "id": "273facee-55cf-4f19-ba21-f601377a884a",
   "metadata": {},
   "source": [
    "**#1.3) Checking for for missing values**"
   ]
  },
  {
   "cell_type": "markdown",
   "id": "1e978f4f-5eda-41ed-84c8-8643a6707a10",
   "metadata": {},
   "source": [
    "Now, we need to check if there are any values that are not defined (NaN). We will use the dataframe resulted after the concatenation:"
   ]
  },
  {
   "cell_type": "code",
   "execution_count": 28,
   "id": "0479dd5b-b5c0-4acb-a146-1ca67c68a221",
   "metadata": {},
   "outputs": [
    {
     "name": "stdout",
     "output_type": "stream",
     "text": [
      "No missing values were found!\n"
     ]
    }
   ],
   "source": [
    "missing_values = cultivars_unified_df.isna().sum()\n",
    "if missing_values.sum() == 0:\n",
    "    print(\"No missing values were found!\")\n",
    "else:\n",
    "    print(\"Missing values were found:\")\n",
    "    print(missing_values)"
   ]
  },
  {
   "cell_type": "markdown",
   "id": "b441307a-0c18-4c1f-9929-a467bd410580",
   "metadata": {},
   "source": [
    "Seems like we don't have any NaN's! If we had, we could have used mathematical operations such as the interpolation by considering the distribution of each feature (although it is not so simple, because when replacing a value, we need to also consider the existent patterns between the features of the dataframe)."
   ]
  },
  {
   "cell_type": "markdown",
   "id": "611923c0-faaf-41ae-b9c8-5d4b05d81b22",
   "metadata": {},
   "source": [
    "**#1.4) Checking for for missing values**"
   ]
  },
  {
   "cell_type": "markdown",
   "id": "2fa1058a-2393-4c02-9d32-e3e5442c988f",
   "metadata": {},
   "source": [
    "Now, the last step before checking for outliers is to see the data types of the values, for each column:"
   ]
  },
  {
   "cell_type": "code",
   "execution_count": 34,
   "id": "c109b6e3-02ff-4c7e-bc1d-171f6cb0bccc",
   "metadata": {},
   "outputs": [
    {
     "name": "stdout",
     "output_type": "stream",
     "text": [
      "\n",
      "Data types:\n",
      "Season                        int64\n",
      "Cultivar                     object\n",
      "Repetition                    int64\n",
      "PH                          float64\n",
      "IFP                         float64\n",
      "NLP                         float64\n",
      "NGP                         float64\n",
      "NGL                         float64\n",
      "NS                          float64\n",
      "MHG                         float64\n",
      "GY                          float64\n",
      "Maturation group            float64\n",
      "Seeds per meter/linear      float64\n",
      "Density per meter/linear      int64\n",
      "dtype: object\n"
     ]
    }
   ],
   "source": [
    "data_types = cultivars_unified_df.dtypes\n",
    "print(\"\\nData types:\")\n",
    "print(data_types)\n",
    "#print(cultivars_unified_df.head())"
   ]
  },
  {
   "cell_type": "markdown",
   "id": "202b632b-6261-49bf-83c0-700df8926457",
   "metadata": {},
   "source": [
    "All the identified columns are storing either int64 variables or float64 ones... with the exception of the 'Season' column! In that case, we can see that the data type is object, and that is because the variables stored in it are of type *string*."
   ]
  },
  {
   "cell_type": "markdown",
   "id": "0e873af4-3b67-422f-a32f-702cd174a3e4",
   "metadata": {},
   "source": [
    "**#1.5) Checking for & modifying outliers values (IQR method vs. z-score)**"
   ]
  },
  {
   "cell_type": "markdown",
   "id": "4f06cf1b-0ea8-404f-97ad-b07dc397dca4",
   "metadata": {},
   "source": [
    "Outliers are usually found by either using **interquartile range method** or **z-score method**. Checking for and modifying outliers values is a necessary process because when we will apply the min-max normalization (what we will do next step; we do that to preserve the original distribution of the features), outliers with great magnitude can have a significant impact over the scaling process. A very easy way to visualize outliers is by using the boxplot graphical representation, which shows the first quartile (Q1), the median (Q2), the third quartile (Q3) and the minimum and maximum values (these lower and upper bounds are marked by the whiskers, and are defined by the interquartile range (IQR) and by the whis factor, which has the default value of 1.5)."
   ]
  },
  {
   "cell_type": "code",
   "execution_count": 76,
   "id": "f6141180-e137-404a-8e7e-e5cc8c8260c7",
   "metadata": {},
   "outputs": [
    {
     "data": {
      "image/png": "[encoded data removed]",
      "text/plain": [
       "<Figure size 640x480 with 1 Axes>"
      ]
     },
     "metadata": {},
     "output_type": "display_data"
    }
   ],
   "source": [
    "cultivars_temp = cultivars_unified_df.drop(['Cultivar'], axis = 1)  #we drop the non-numerical column - 'Cultivar'\n",
    "#print(cultivars_temp.head())\n",
    "plt.boxplot(cultivars_temp, whis = 1.5) #whis factor at default value: 1.5\n",
    "plt.title('Box Plot of Data (all features)')\n",
    "plt.show()"
   ]
  },
  {
   "attachments": {},
   "cell_type": "markdown",
   "id": "b6ced3f7-1f6a-4769-8bdb-2e2724110394",
   "metadata": {},
   "source": [
    "As we can see, the values of the 13th column ('Density per meter/linear') have much larger magnitudes then the ones of the other columns. Let's analyze it separately:\n"
   ]
  },
  {
   "cell_type": "code",
   "execution_count": 100,
   "id": "79e77235-b0b9-4244-aed5-ab8153c6baa9",
   "metadata": {},
   "outputs": [
    {
     "name": "stderr",
     "output_type": "stream",
     "text": [
      "C:\\ProgramData\\anaconda3\\Lib\\site-packages\\seaborn\\_oldcore.py:1498: FutureWarning: is_categorical_dtype is deprecated and will be removed in a future version. Use isinstance(dtype, CategoricalDtype) instead\n",
      "  if pd.api.types.is_categorical_dtype(vector):\n",
      "C:\\ProgramData\\anaconda3\\Lib\\site-packages\\seaborn\\_oldcore.py:1119: FutureWarning: use_inf_as_na option is deprecated and will be removed in a future version. Convert inf values to NaN before operating instead.\n",
      "  with pd.option_context('mode.use_inf_as_na', True):\n"
     ]
    },
    {
     "data": {
      "image/png": "[encoded data removed]",
      "text/plain": [
       "<Figure size 640x480 with 1 Axes>"
      ]
     },
     "metadata": {},
     "output_type": "display_data"
    }
   ],
   "source": [
    "sns.histplot(data=cultivars_temp.iloc[:,12], kde=True)\n",
    "plt.title('Density per meter/linear Histogram')\n",
    "plt.show()"
   ]
  },
  {
   "cell_type": "markdown",
   "id": "81625215-aef1-40de-8d2d-1d54d04bf297",
   "metadata": {},
   "source": [
    "As we can see, the values of this feature don't describe an uniform distribution (**oops, so bye bye z-score method**; but we will try it to see the difference between its results and the ones from the IQR method), but we also don't see any outliers. Let's return to the previous plots:"
   ]
  },
  {
   "cell_type": "code",
   "execution_count": 74,
   "id": "f86c2332-7b6e-41cd-a586-0a64ef2dcd84",
   "metadata": {},
   "outputs": [
    {
     "data": {
      "image/png": "[encoded data removed]",
      "text/plain": [
       "<Figure size 640x480 with 1 Axes>"
      ]
     },
     "metadata": {},
     "output_type": "display_data"
    }
   ],
   "source": [
    "plt.boxplot(cultivars_temp.iloc[:,:12], whis = 1.5)\n",
    "plt.title('Box Plot of Data (all features, without Density)')\n",
    "plt.show()"
   ]
  },
  {
   "cell_type": "markdown",
   "id": "9dc5caf6-72c2-42aa-8bea-42feacd4d898",
   "metadata": {},
   "source": [
    "We see a lot of outliers at the column 6 and column 10. Let's analyze their histograms:"
   ]
  },
  {
   "cell_type": "code",
   "execution_count": 75,
   "id": "c7f5e3ef-a395-48ad-a088-13f3165eed26",
   "metadata": {},
   "outputs": [
    {
     "name": "stderr",
     "output_type": "stream",
     "text": [
      "C:\\ProgramData\\anaconda3\\Lib\\site-packages\\seaborn\\_oldcore.py:1498: FutureWarning: is_categorical_dtype is deprecated and will be removed in a future version. Use isinstance(dtype, CategoricalDtype) instead\n",
      "  if pd.api.types.is_categorical_dtype(vector):\n",
      "C:\\ProgramData\\anaconda3\\Lib\\site-packages\\seaborn\\_oldcore.py:1119: FutureWarning: use_inf_as_na option is deprecated and will be removed in a future version. Convert inf values to NaN before operating instead.\n",
      "  with pd.option_context('mode.use_inf_as_na', True):\n",
      "C:\\ProgramData\\anaconda3\\Lib\\site-packages\\seaborn\\_oldcore.py:1498: FutureWarning: is_categorical_dtype is deprecated and will be removed in a future version. Use isinstance(dtype, CategoricalDtype) instead\n",
      "  if pd.api.types.is_categorical_dtype(vector):\n",
      "C:\\ProgramData\\anaconda3\\Lib\\site-packages\\seaborn\\_oldcore.py:1119: FutureWarning: use_inf_as_na option is deprecated and will be removed in a future version. Convert inf values to NaN before operating instead.\n",
      "  with pd.option_context('mode.use_inf_as_na', True):\n"
     ]
    },
    {
     "data": {
      "image/png": "[encoded data removed]",
      "text/plain": [
       "<Figure size 1200x300 with 2 Axes>"
      ]
     },
     "metadata": {},
     "output_type": "display_data"
    }
   ],
   "source": [
    "plt.figure(figsize=(12, 3))\n",
    "plt.subplot(1, 2, 1) \n",
    "sns.histplot(data=cultivars_temp.iloc[:,5], kde=True)\n",
    "plt.title('NGP Histogram')\n",
    "\n",
    "plt.subplot(1, 2, 2) \n",
    "sns.histplot(data=cultivars_temp.iloc[:,9], kde=True)\n",
    "plt.title('GY Histogram')\n",
    "\n",
    "plt.show()"
   ]
  },
  {
   "cell_type": "markdown",
   "id": "0cb0bd57-683d-4e1a-a7f7-ccb0514ebc43",
   "metadata": {},
   "source": [
    "As we can see, these 2 features follow distribution that is more uniform-ish-er (is that a word?!?) than in the case of the Density histogram. However, we have 2 problems:\n",
    "- we see that the magnitude of the outliers are significant, especially in case of NGP - number of grains per plant (the last outlier is *brutal* - I am pretty sure that the measurement was done wrong in this case, as the other values for the same season & the same cultivar are 101.8, 96 and 293.73)\n",
    "- GY is one of the parameters for which we will want to determine the most important factors in Part 2 of this project, so... modifying its values, without having any knowledge in the domain (nope, I don't), isn't recommended\n",
    "\n",
    "A solution to this would be to use a more conservative outlier identification method, by using a **a whis factor of 3, instead of 1.5**.\n",
    "\n",
    "Let's identify outliers with both methods (even though we will not use the z-score in the end, it's interesting to analyze both scenarios) and see what results we will obtain:"
   ]
  },
  {
   "cell_type": "code",
   "execution_count": 84,
   "id": "9b5974ae-9442-402a-8152-975b3310fee0",
   "metadata": {},
   "outputs": [
    {
     "name": "stdout",
     "output_type": "stream",
     "text": [
      "Outliers identified using IRQ method: 14 elements (whis_factor = 3.0)\n",
      "Season | Cultivar | Parameter | Value\n",
      "1 | MONSOY 8330I2X | NGL | 4.75\n",
      "1 | 96R29 IPRO | Maturation group | 6.2\n",
      "1 | 96R29 IPRO | Maturation group | 6.2\n",
      "1 | 96R29 IPRO | Maturation group | 6.2\n",
      "1 | 96R29 IPRO | Maturation group | 6.2\n",
      "2 | NK 7777 IPRO | NGP | 683.4\n",
      "2 | NK 7777 IPRO | NGL | 14.86\n",
      "2 | NK 7777 IPRO | NGL | 6.42\n",
      "2 | 96R29 IPRO | Maturation group | 6.2\n",
      "2 | 96R29 IPRO | Maturation group | 6.2\n",
      "2 | 96R29 IPRO | Maturation group | 6.2\n",
      "2 | 96R29 IPRO | Maturation group | 6.2\n",
      "2 | MONSOY M8606I2X | NGP | 440.0\n",
      "2 | MONSOY M8606I2X | NGL | 4.02\n"
     ]
    }
   ],
   "source": [
    "#IQR method, whis factor = 3\n",
    "Q1 = cultivars_temp.quantile(0.25)\n",
    "Q3 = cultivars_temp.quantile(0.75)\n",
    "IQR = Q3 - Q1\n",
    "whis_factor = 3.0 #default whis argument is 1.5!!!\n",
    "lower_bound = Q1 - whis_factor * IQR \n",
    "upper_bound = Q3 + whis_factor * IQR\n",
    "outliers_iqr = cultivars_temp[(cultivars_temp < lower_bound) | (cultivars_temp > upper_bound)]\n",
    "outliers_iqr_count = outliers_iqr.count().sum() #whis_factor = 1.5 => 63 outliers; whis_factor = 3.0 => 14 outliers\n",
    "\n",
    "#writing labels of outliers\n",
    "l_outliers_iqr = []\n",
    "for row_label, row in outliers_iqr.iterrows():\n",
    "    for column_label, value in row.items():\n",
    "        if pd.notna(value):\n",
    "            l_outliers_iqr.append((row_label, column_label))\n",
    "\n",
    "#printing outliers\n",
    "print(f\"Outliers identified using IRQ method: {outliers_iqr_count} elements (whis_factor = {whis_factor})\")\n",
    "print(\"Season | Cultivar | Parameter | Value\")\n",
    "for i in l_outliers_iqr:\n",
    "    print(f\"{cultivars_unified_df.loc[i[0], 'Season']} | {cultivars_unified_df.loc[i[0], 'Cultivar']} | {i[1]} | {cultivars_unified_df.loc[i[0], i[1]]}\")\n"
   ]
  },
  {
   "cell_type": "code",
   "execution_count": 88,
   "id": "f143bc61-2d76-4c40-a105-bd912c9f6322",
   "metadata": {},
   "outputs": [
    {
     "name": "stdout",
     "output_type": "stream",
     "text": [
      "Outliers identified using z-score method: 10 elements\n",
      "Season | Cultivar | Parameter | Value\n",
      "1 | NK 7777 IPRO | NS | 9.0\n",
      "1 | BRASMAX OLIMPO IPRO | IFP | 26.4\n",
      "1 | LYNDA IPRO | IFP | 25.4\n",
      "1 | 98R30 CE | GY | 4930.0\n",
      "2 | NK 7777 IPRO | NGP | 683.4\n",
      "2 | NK 7777 IPRO | NGL | 14.86\n",
      "2 | NK 7777 IPRO | NGL | 6.42\n",
      "2 | NK 8100 IPRO | NS | 9.0\n",
      "2 | 82HO111 IPRO - HO COXIM IPRO | NLP | 123.0\n",
      "2 | MONSOY M8606I2X | NGP | 440.0\n"
     ]
    }
   ],
   "source": [
    "#z-score method, threshold = 3\n",
    "threshold = 3\n",
    "z_scores = (cultivars_temp - cultivars_temp.mean()) / cultivars_temp.std()\n",
    "outliers_z = cultivars_temp[(z_scores > threshold)]\n",
    "outliers_z_count = outliers_z.count().sum()\n",
    "\n",
    "#writing labels of outliers\n",
    "l_outliers_z = []\n",
    "for row_label, row in outliers_z.iterrows():\n",
    "    for column_label, value in row.items():\n",
    "        if pd.notna(value):\n",
    "            l_outliers_z.append((row_label, column_label))\n",
    "\n",
    "print(f\"Outliers identified using z-score method: {outliers_z_count} elements\")\n",
    "print(\"Season | Cultivar | Parameter | Value\")\n",
    "for i in l_outliers_z:\n",
    "    print(f\"{cultivars_unified_df.loc[i[0], 'Season']} | {cultivars_unified_df.loc[i[0], 'Cultivar']} | {i[1]} | {cultivars_unified_df.loc[i[0], i[1]]}\")\n"
   ]
  },
  {
   "cell_type": "markdown",
   "id": "b475d978-b199-47d6-8c6c-0164db2943ce",
   "metadata": {},
   "source": [
    "Using IQR method, we identified 14 outliers, while using z-score method, we identified 10 outliers. HOWEVER, we see that there are a lot of problems with the Maturation group feature -> value = 6.2. Let's see its histogram:"
   ]
  },
  {
   "cell_type": "code",
   "execution_count": 104,
   "id": "bc0c0038-7758-4e5b-9c90-348e74458f34",
   "metadata": {},
   "outputs": [
    {
     "name": "stderr",
     "output_type": "stream",
     "text": [
      "C:\\ProgramData\\anaconda3\\Lib\\site-packages\\seaborn\\_oldcore.py:1498: FutureWarning: is_categorical_dtype is deprecated and will be removed in a future version. Use isinstance(dtype, CategoricalDtype) instead\n",
      "  if pd.api.types.is_categorical_dtype(vector):\n",
      "C:\\ProgramData\\anaconda3\\Lib\\site-packages\\seaborn\\_oldcore.py:1119: FutureWarning: use_inf_as_na option is deprecated and will be removed in a future version. Convert inf values to NaN before operating instead.\n",
      "  with pd.option_context('mode.use_inf_as_na', True):\n"
     ]
    },
    {
     "data": {
      "image/png": "[encoded data removed]",
      "text/plain": [
       "<Figure size 640x480 with 1 Axes>"
      ]
     },
     "metadata": {},
     "output_type": "display_data"
    }
   ],
   "source": [
    "sns.histplot(data=cultivars_temp.iloc[:,10], kde=True)\n",
    "plt.title('Maturation group Histogram')\n",
    "plt.show()"
   ]
  },
  {
   "cell_type": "markdown",
   "id": "9df11bcc-9dae-417d-9749-6fe7802965df",
   "metadata": {},
   "source": [
    "Oops, that doesn't look good... That value characterizes the 96R29 IPRO cultivar. So if we change/ normalize it, it will only affect this cultivar. Also, if we don't change the value of this outlier, when we will apply the min-max normalization, this factor will have a significant impact over the min-max scaling, so the answer is clear: be gone outlier! (I know that it's not ideal, but this normalization process must be done - **and you can't do it for some columns and for others not - <font color=red>in this way, you would change the patterns between features!!!</font>**) \n",
    "\n",
    "In general, we have 3 options for replacing the values of the outliers (all of them will modify a little bit the distribution):\n",
    "- *Option 1*: replace outliers with median value of that feature (for non-uniform distributions)\n",
    "- *Option 2*: replace outliers with mean value of that feature (for uniform distributions)\n",
    "- *Option 3*: replace outliers with *lower_bound* value if they are smaller then *lower_bound* OR with *upper_bound* value if they are larger then *upper_bound* (clipping effect)\n",
    "\n",
    "**NOTE 1**: This replacing process should be applied to the same cultivar, for one/ both seasons - you shouldn't compute the mean/ median value for all the cultivars! And because we only have 4/ 8 per cultivars (depending on the chosen period), interpolation isn't recommended.\n",
    "\n",
    "**NOTE 2**: Only option 3 can change the value of Maturation group parameter.\n",
    "\n",
    "Let's extract the non-outlier values which correspond to each outlier: "
   ]
  },
  {
   "cell_type": "code",
   "execution_count": 116,
   "id": "349ddf29-4707-487f-86b9-97c4fc75af79",
   "metadata": {},
   "outputs": [
    {
     "name": "stdout",
     "output_type": "stream",
     "text": [
      "Cultivar | Season | Value\n",
      "NK 7777 IPRO | 2 | 683.4 (OUTLIER)\n",
      "NK 7777 IPRO | 1 | 219.2\n",
      "NK 7777 IPRO | 1 | 176.0\n",
      "NK 7777 IPRO | 1 | 272.4\n",
      "NK 7777 IPRO | 1 | 222.53\n",
      "NK 7777 IPRO | 2 | 101.8\n",
      "NK 7777 IPRO | 2 | 96.0\n",
      "NK 7777 IPRO | 2 | 293.73\n"
     ]
    }
   ],
   "source": [
    "list_non_outliers = []\n",
    "for ref in l_outliers_iqr:\n",
    "    ref_cultivar_name = cultivars_unified_df.loc[ref[0], \"Cultivar\"]\n",
    "    temp_non_outliers = []\n",
    "    for row_label, row in cultivars_unified_df.iterrows():\n",
    "        if row_label != ref[0] and row.iloc[1] == ref_cultivar_name: #exlude the record of the outlier\n",
    "            temp_non_outliers.append(row_label)\n",
    "    list_non_outliers.append(temp_non_outliers) #list_values always has 7 values!\n",
    "\n",
    "#example of outlier compared to the other values of the same cultivar (different repetitions, different seasons)\n",
    "idx = 5 #6th outlier\n",
    "ref = l_outliers_iqr[idx]\n",
    "print(\"Cultivar | Season | Value\")\n",
    "print(f\"{cultivars_unified_df.loc[ref[0], 'Cultivar']} | {cultivars_unified_df.loc[ref[0], 'Season']} | {cultivars_unified_df.loc[ref[0], ref[1]]} (OUTLIER)\")\n",
    "for i in list_non_outliers[idx]:\n",
    "    print(f\"{cultivars_unified_df.loc[i, 'Cultivar']} | {cultivars_unified_df.loc[i, 'Season']} | {cultivars_unified_df.loc[i, ref[1]]}\")\n"
   ]
  },
  {
   "cell_type": "markdown",
   "id": "055d9063-948f-42d7-be73-226051a6a3bd",
   "metadata": {},
   "source": [
    "Above we can see an example of outlier, compared to its correspondent non-outliers. Apart from the big difference between the value of the outlier vs. the values of the non-outliers, we can see that values ranges are different from one season to another. By looking at the other cases, I concluded that *I would use the median value for each season, for each cultivar for that parameter*. Yeah, plot twist: we will not change the values for the Maturation group in the case of 96R29 IPRO cultivar, but this decision was taken by considering all the cases and choosing the best compromise. Also, it isn't mathematically wrong, because I've applied the same reasoning for all the parameters.\n",
    "Let's now replace the values of the outliers:"
   ]
  },
  {
   "cell_type": "code",
   "execution_count": 127,
   "id": "7f25ec28-da82-4807-9714-32608682c085",
   "metadata": {},
   "outputs": [],
   "source": [
    "outliers_outlier_values = []\n",
    "for outlier_idx in range(0, len(l_outliers_iqr)):\n",
    "    temp_list = []\n",
    "    ref = l_outliers_iqr[outlier_idx][0]\n",
    "    for i in list_non_outliers[outlier_idx]:\n",
    "        if i > ref - 4 and i < ref + 4: #cultivars are grouped 4 by 4\n",
    "            temp_list.append(i) #each time it will have 3 elements\n",
    "            #print(i)\n",
    "    \n",
    "    values_list = []\n",
    "    ref_label = l_outliers_iqr[outlier_idx][1]\n",
    "    for i in temp_list:\n",
    "        values_list.append(cultivars_unified_df.loc[i, ref_label])\n",
    "    #print(values_list)\n",
    "    values_list.sort()\n",
    "    #print(values_list)\n",
    "    outliers_outlier_values.append(values_list[1]) #median value = element with index 1\n",
    "        \n",
    "#replacing outliers with normalized values\n",
    "#cultivars_copy = cultivars_unified_df #backup\n",
    "for outlier_idx in range(0, len(l_outliers_iqr)):\n",
    "    ref = l_outliers_iqr[outlier_idx]\n",
    "    cultivars_unified_df.loc[ref[0], ref[1]] = outliers_outlier_values[outlier_idx]\n",
    "\n",
    "cultivars_unified_df.to_csv('data/data_nonNormalized.csv', index=False)"
   ]
  },
  {
   "cell_type": "markdown",
   "id": "e1d1bd10-53d9-485e-be36-bd248d04a6eb",
   "metadata": {},
   "source": [
    "The non-scaled dataframe, with outliers changed was written to the <font color=green>data_nonNormalized.csv</font> file. "
   ]
  },
  {
   "cell_type": "markdown",
   "id": "6b34d60c-16d8-4f00-814c-23763ef4b420",
   "metadata": {},
   "source": [
    "**#1.6) Label Encoding. Min-max feature scaling.**"
   ]
  },
  {
   "cell_type": "markdown",
   "id": "45c9b155-93ba-430e-b997-34a3cf0e0160",
   "metadata": {},
   "source": [
    "First, we will encode the name of every cultivar. We can represent them either by assigning a different integer value to all of them or by encoding every name as a one hot representation. The second option will add a lot of dimensionality to the dataframe (40 columns, each with 320 spare data), so we will choose the first solution:"
   ]
  },
  {
   "cell_type": "code",
   "execution_count": 154,
   "id": "a70f8067-1dab-46f8-a6a4-0c6445055b53",
   "metadata": {},
   "outputs": [],
   "source": [
    "temp = [num for num in range(0, 40) for _ in range(4)]\n",
    "temp = temp + temp\n",
    "#print(cultivars_unified_df.head)\n",
    "cultivars_unified_df['Cultivar'] = temp\n",
    "#print(cultivars_unified_df.head)"
   ]
  },
  {
   "cell_type": "markdown",
   "id": "df2b7ba8-6ae0-474e-ade0-527e8d8289ac",
   "metadata": {},
   "source": [
    "We don't remove the label of the cultivars because, as we will see in Part 2: Data Analysis, the 3 features from *cultivars-description_corrected.ods* can't \"represent\" alone every cultivar => it also good to include the cultivars names.\n",
    "Now we apply the min-max scaling to the entire dataframe:"
   ]
  },
  {
   "cell_type": "code",
   "execution_count": 156,
   "id": "1d68f058-f12c-452e-af45-7a05f0faf6de",
   "metadata": {},
   "outputs": [
    {
     "name": "stdout",
     "output_type": "stream",
     "text": [
      "   Season  Cultivar  Repetition        PH       IFP       NLP       NGP  \\\n",
      "0     0.0  0.000000    0.000000  0.237288  0.416667  0.758755  0.516283   \n",
      "1     0.0  0.000000    0.333333  0.233051  0.322917  0.795720  0.584591   \n",
      "2     0.0  0.000000    0.666667  0.334746  0.520833  0.780156  0.616362   \n",
      "3     0.0  0.000000    1.000000  0.268432  0.420313  0.778210  0.572399   \n",
      "4     0.0  0.025641    0.000000  0.711864  0.562500  0.764591  0.497220   \n",
      "\n",
      "        NGL        NS       MHG        GY  Maturation group  \\\n",
      "0  0.376623  0.558140  0.282662  0.499618               0.5   \n",
      "1  0.393939  0.790698  0.164493  0.583509               0.5   \n",
      "2  0.467532  0.744186  0.244547  0.546390               0.5   \n",
      "3  0.411255  0.697674  0.241061  0.523134               0.5   \n",
      "4  0.350649  0.813953  0.208343  0.499079               0.5   \n",
      "\n",
      "   Seeds per meter/linear  Density per meter/linear  \n",
      "0                0.840336                  0.840336  \n",
      "1                0.840336                  0.840336  \n",
      "2                0.840336                  0.840336  \n",
      "3                0.840336                  0.840336  \n",
      "4                0.336134                  0.336134  \n"
     ]
    }
   ],
   "source": [
    "cultivars_copy = cultivars_unified_df\n",
    "cultivars_minMax = (cultivars_copy - cultivars_copy.min()) / (cultivars_copy.max() - cultivars_copy.min())\n",
    "\n",
    "cultivars_minMax.to_csv('data/data_Normalized.csv', index=False)\n",
    "\n",
    "print(cultivars_minMax.head())"
   ]
  },
  {
   "cell_type": "markdown",
   "id": "d3502780-ede2-4405-9180-c9846e40fd5b",
   "metadata": {},
   "source": [
    "The min-max scaled dataframe, with outliers changed was written to the <font color=green>data_Normalized.csv</font> file. But we can observe an intresting thing: aren't the seeds and density columns the same? We'll see in just a second... "
   ]
  },
  {
   "cell_type": "markdown",
   "id": "501d08cc-8a09-40bc-9e08-180662b4f97d",
   "metadata": {},
   "source": [
    "**Part 2: Exploratory Data Analysis** (ex 10 - 14)"
   ]
  },
  {
   "cell_type": "markdown",
   "id": "b07bded4-1870-40d5-86f8-4dc088b12e85",
   "metadata": {},
   "source": [
    "**#2.1) Delta in MHG and GY from Season 1 to Season 2** (ex 13 -> data_nonNormalized.csv)"
   ]
  },
  {
   "cell_type": "markdown",
   "id": "33304844-ea5e-454d-88d3-7037fa8a1977",
   "metadata": {},
   "source": [
    "To compare those 2 parameters from Season 1 to Season 2, it is more useful to import data from the non-normalized dataframe, which has only the outliers changed. We will treat two cases/ analysis:\n",
    "- **CASE 1**: for all the cultivars\n",
    "- **CASE 2**: for each individual cultivar\n",
    "\n",
    "Now, for the *first case*:"
   ]
  },
  {
   "cell_type": "code",
   "execution_count": 5,
   "id": "df2bc978-d901-4761-9ac7-b190392e7e83",
   "metadata": {},
   "outputs": [
    {
     "name": "stdout",
     "output_type": "stream",
     "text": [
      "174.3558125 162.2888125 12.067000000000007\n",
      "3408.6551508499992 3428.4524375 -19.797286650000842\n"
     ]
    }
   ],
   "source": [
    "cultivars_df = pd.read_csv('data/data_nonNormalized.csv')\n",
    "\n",
    "#CASE 1: FOR ALL THE CULTIVARS\n",
    "MHG_Season1 = cultivars_df.loc[cultivars_df['Season'] == 1, 'MHG']\n",
    "MHG_Season2 = cultivars_df.loc[cultivars_df['Season'] == 2, 'MHG']\n",
    "delta_MHG = MHG_Season2.mean() - MHG_Season1.mean() #12.067 => increase\n",
    "\n",
    "GY_Season1 = cultivars_df.loc[cultivars_df['Season'] == 1, 'GY']\n",
    "GY_Season2 = cultivars_df.loc[cultivars_df['Season'] == 2, 'GY']\n",
    "delta_GY = GY_Season2.mean() - GY_Season1.mean() #-19.797 => decrease\n",
    "\n",
    "print(MHG_Season2.mean(), MHG_Season1.mean(), delta_MHG)\n",
    "print(GY_Season2.mean(), GY_Season1.mean(), delta_GY)"
   ]
  },
  {
   "cell_type": "markdown",
   "id": "2f6ec3b5-b715-47b3-a989-e29084ae572d",
   "metadata": {},
   "source": [
    "Conclusions:\n",
    "- **MHG**: Season to season, as an average for all the cultivars, we have an <font color = green>increase</font> of 12.067 for the thousand seed weight parameter, meaning a relative **increase of aprox. 7.435%**\n",
    "- **GY**: Season to season, as an average for all the cultivars, we have a <font color=red>decrease</font> of 19.797 for the grain yield parameter, meaning a relative **decrease of aprox. 0.577%**\n",
    "\n",
    "Now, let's move to the *second case*:"
   ]
  },
  {
   "cell_type": "code",
   "execution_count": 6,
   "id": "7250d0e0-a18f-418c-945f-7ce836074305",
   "metadata": {},
   "outputs": [
    {
     "name": "stdout",
     "output_type": "stream",
     "text": [
      "                   Cultivar Name  Delta MHG     Delta GY\n",
      "0                     NEO 760 CE    13.2700  -152.073678\n",
      "1                      MANU IPRO    15.4300    59.949741\n",
      "2           77HO111I2X - GUAPORÉ     7.3425   -25.341063\n",
      "3                   NK 7777 IPRO     6.4700  -319.852184\n",
      "4           GNS7900 IPRO - AMPLA    19.9525   425.107701\n",
      "5                  LTT 7901 IPRO     8.9650   177.925259\n",
      "6             BRASMAX BÔNUS IPRO    27.1100  -924.302097\n",
      "7                     97Y97 IPRO    10.3125   200.636379\n",
      "8            BRASMAX OLIMPO IPRO    11.5625  -783.323247\n",
      "9                     LYNDA IPRO     4.5600  -732.351782\n",
      "10                  NK 8100 IPRO     5.0900   180.468219\n",
      "11  82HO111 IPRO - HO COXIM IPRO     7.6225   334.871580\n",
      "12                 83IX84RSF I2X    16.9050  -572.899626\n",
      "13          ADAPTA LTT 8402 IPRO    18.2025 -1678.402327\n",
      "14                      98R30 CE    11.3650 -1565.139512\n",
      "15                FORTALEZA IPRO     1.0100  -923.797931\n",
      "16                MONSOY 8330I2X     6.6975  -973.522902\n",
      "17                     SUZY IPRO     9.3050  -218.527011\n",
      "18                  TMG 22X83I2X     7.5650  -497.959023\n",
      "19         EXPANDE LTT 8301 IPRO    15.3675   254.570632\n",
      "20          FORTALECE L090183 RR     9.7900  -808.823937\n",
      "21                    96R29 IPRO     4.7225   869.533448\n",
      "22                   74K75RSF CE     9.4600   951.562213\n",
      "23                 FTR 3868 IPRO    15.2575   885.176063\n",
      "24                  GNS7700 IPRO    29.2000   365.808333\n",
      "25                    ELISA IPRO    11.5400   655.559914\n",
      "26                 79I81RSF IPRO    17.4000  1143.882126\n",
      "27                  NEO 790 IPRO    46.8100   495.301638\n",
      "28                    PAULA IPRO    30.6700   -93.067787\n",
      "29                 FTR 3179 IPRO    14.7650   644.568563\n",
      "30                    LAT 1330BT    -2.5475    33.017328\n",
      "31                 FTR 4280 IPRO    22.2450    77.532356\n",
      "32                    ATAQUE I2X    20.1800   829.757586\n",
      "33                   SYN2282IPRO    25.1350   647.264397\n",
      "34                 82I78RSF IPRO    21.6650   974.996293\n",
      "35                   M 8644 IPRO    10.3175   -38.745603\n",
      "36               MONSOY M8606I2X    -4.6025   403.594052\n",
      "37                  NK 8770 IPRO    -5.2150  -624.145345\n",
      "38                 FTR 4288 IPRO   -12.7950  -312.424770\n",
      "39                 FTR 3190 IPRO    -5.4225  -158.275460\n"
     ]
    }
   ],
   "source": [
    "#CASE 2: FOR THE SAME CULTIVARS\n",
    "#sort = False keeps the same order from cultivars_db\n",
    "cultivar_grouped = cultivars_df.groupby('Cultivar', sort = False)\n",
    "#cultivar_grouped.first()\n",
    "#cultivar_grouped.get_group('NEO 760 CE')\n",
    "\n",
    "delta_list = []\n",
    "for group_name, group_data in cultivar_grouped:\n",
    "    MHG_Season1_temp = group_data.loc[group_data['Season'] == 1, 'MHG'].mean()\n",
    "    MHG_Season2_temp = group_data.loc[group_data['Season'] == 2, 'MHG'].mean()\n",
    "    MHG_delta = MHG_Season2_temp - MHG_Season1_temp\n",
    "    \n",
    "    GY_Season1_temp = group_data.loc[group_data['Season'] == 1, 'GY'].mean()\n",
    "    GY_Season2_temp = group_data.loc[group_data['Season'] == 2, 'GY'].mean()\n",
    "    GY_delta = GY_Season2_temp - GY_Season1_temp\n",
    "    \n",
    "    dict_delta = {'Cultivar Name': group_name, 'Delta MHG': MHG_delta, 'Delta GY': GY_delta}\n",
    "    delta_list.append(dict_delta)\n",
    "\n",
    "cultivar_delta = pd.DataFrame(delta_list)\n",
    "print(cultivar_delta)"
   ]
  },
  {
   "cell_type": "markdown",
   "id": "30652ab7-571f-4ad2-8992-412164bc3145",
   "metadata": {},
   "source": [
    "Conclusions:\n",
    "- **MHG (<font color = green>largest increase</font>)**: Season to season, for the NEO 790 IPRO cultivar, we have an <font color = green>increase</font> of 46.810 for the thousand seed weight parameter, meaning a relative (to the 4 repetitions) **increase of aprox. 32.387%**\n",
    "- **MHG (<font color=red>largest decrease</font>)**: Season to season, for the FTR 4288 IPRO cultivar, we have an <font color = red>decrease</font> of 12.795 for the thousand seed weight parameter, meaning a relative (to the 4 repetitions) **decrease of aprox. 8.415%**\n",
    "- **GY (<font color = green>largest increase</font>)**: Season to season, for the 79I81RSF IPRO cultivar, we have a <font color=green>increase</font> of 1143.882 for the grain yield parameter, meaning a relative (to the 4 repetitions) **increase of aprox. 38.709%**\n",
    "- **GY (<font color = red>largest decrease</font>)**: Season to season, for the ADAPTA LTT 8402 IPRO cultivar, we have a <font color=red>decrease</font> of 1678.402 for the grain yield parameter, meaning a relative (to the 4 repetitions) **decrease of aprox. 36.597%**"
   ]
  },
  {
   "cell_type": "markdown",
   "id": "b9cb2e77-3ba3-4e78-a719-6d7120aa1c3c",
   "metadata": {},
   "source": [
    "**#2.2) Factors determining MHG and GY**"
   ]
  },
  {
   "cell_type": "markdown",
   "id": "52ebb52b-be49-4f9e-90b8-4549987a203f",
   "metadata": {},
   "source": [
    "**#2.2.1) Correlation coefficients**"
   ]
  },
  {
   "cell_type": "markdown",
   "id": "0a7a5c99-423e-4e49-9efd-6bfd5db10f7b",
   "metadata": {},
   "source": [
    "Computing the correlation matrix is useful in finding linear relationships between several features. For this, we used the the min-max normalized set of data, giving us the following results:"
   ]
  },
  {
   "cell_type": "code",
   "execution_count": 8,
   "id": "74822212-eac3-45c9-8d0f-f09945a3f079",
   "metadata": {},
   "outputs": [
    {
     "name": "stdout",
     "output_type": "stream",
     "text": [
      "Maximum correlation coefficient:  0.9983975807787351\n",
      "Minimum correlation coefficient:  -0.6014667079321143\n"
     ]
    },
    {
     "data": {
      "image/png": "[encoded data removed]",
      "text/plain": [
       "<Figure size 1000x800 with 2 Axes>"
      ]
     },
     "metadata": {},
     "output_type": "display_data"
    }
   ],
   "source": [
    "cultivars_df = pd.read_csv('data/data_Normalized.csv')\n",
    "\n",
    "correlation_matrix = cultivars_df.corr()\n",
    "M = correlation_matrix.unstack()\n",
    "print(\"Maximum correlation coefficient: \", max(M[M != 1])) #the main diagonal is always 1\n",
    "print(\"Minimum correlation coefficient: \", min(M))\n",
    "\n",
    "plt.figure(figsize=(10, 8))\n",
    "sns.heatmap(correlation_matrix, annot=True, cmap='coolwarm', fmt=\".2f\")\n",
    "plt.title('Cross-Correlation Matrix')\n",
    "plt.show()"
   ]
  },
  {
   "cell_type": "markdown",
   "id": "c1d323fd-c006-415e-b963-a7a81c1a4bbc",
   "metadata": {},
   "source": [
    "A plethora of conclusions can be drawn through the analysis of the heatmap above (**without analyzing MHG and GY**):\n",
    "- We have an almost maximum positive correlation (0.998) between the 'Seeds per meter/linear' column and the 'Density per meter/linear'. When analyzing data further, we <font color=red>**will remove the 'Density per meter/linear' column**</font>, because of the redundancy that it adds to the entire dataframe. Roughly, the formula between these 2 values is: **Density = Seeds * 20000**\n",
    "- We have a strong positive correlation (0.825) between 'NGP' (number of grains per plant) and 'NLP' (number of legumes per plant). Because of this strong correlation, we will also <font color=red>**remove the 'NGP' column**</font>, because of its redundancy.\n",
    "- We have a strong negative correlation (-0.601) between the 'Maturation group' and the 'Seeds per meter/linear' column, meaning that <font color=green>**all 3 features from the cultivars-description_corrected.ods file have a dependency for each other**</font>\n",
    "- However, we have a relatively weak positive correlation between the Cultivar name and 'Maturation group' (0.376) AND a relatively weak negative correlation between the Cultivar name and the 'Seeds per meter/ linear' (-0.345) => **the Seeds and Maturation features aren't \"strong enough to represent the Cultivar label** => <font color=green>**it is also recommended to use the Cultivar column in the prediction tasks**</font>\n",
    "- We have a moderate negative correlation (-0.506) between NS (number of stems) and season number (wanted to delete this column in a first instance...)\n",
    "- We have a moderate positive correlation between NS and NLP (0.522) AND NS and NGP (0.517), underlining again the need to delete one of those 2 columns "
   ]
  },
  {
   "cell_type": "markdown",
   "id": "05a94320-a67e-4a8e-8ffb-ac511e1c7771",
   "metadata": {},
   "source": [
    "Now, by looking at the correlation matrix, the MHG and GY features are having the maximum correlation coefficients (absolute values) with:\n",
    "- **MHG: <font color=green>Season number (0.308), Cultivar name (-0.258), Seeds per meter/ linear (0.183), NS (-0.129)</font>**\n",
    "- **GY: <font color=green>Maturation group (0.382), NGP (0.260), Seeds per meter/ linear (-0.240), NS (0.167)</font>**\n",
    "\n",
    "GY is better \"represented\" by the Maturation group compared to the relation between MHG and Season number, although the difference is pretty small. Even if the correlations are pretty weak, **<font color=green>the features from above can be considered to have a consistent role in influencing the values of MHG and GY</font>**, because the correlation matrix computes only the relation between every two features, so it doesn't help us see the patterns between several feature at the same time. However, one should note that even if we obtained large magnitude correlation coefficient for some of the features, it doesn't have a causality meaning!!! For this, we need to have an extensive domain knowledge and maybe, more data.\n",
    "But we can further continue the analysis by using three regressor:\n",
    "- **Multiple linear regressor**\n",
    "- **Random Forest regressor**\n",
    "- **Gradient Boosting Machine**\n",
    "\n",
    "Each of these regressor algorithms can offer us more ways to test the deterministic role of every feature to/ for MHG and GY. Meanwhile, *we can also test the models to see which one is better suited for the prediction of MHG, which will be done in Part 3*."
   ]
  },
  {
   "cell_type": "markdown",
   "id": "c8dba704-9870-43f1-bd68-d87df2bb50d0",
   "metadata": {},
   "source": [
    "**#2.2.2) Multiple linear regression** (cross-validation mean squared error, coefficients, permutation feature importance)"
   ]
  },
  {
   "cell_type": "markdown",
   "id": "c6ce202e-a3be-427d-b3ba-4918f4e3f3f2",
   "metadata": {},
   "source": [
    "MLR is used to analyze the relationship between multiple independent variables and a single dependent variable. By examining the model's <font color =green>coefficients</font> (evert coefficient is associated with each independent variable), we can assess their relative importance to **MHG**/ **GY**, depending on the case. Also, we will compute the <font color=green>permutation feature importance</font> for each feature (this method involves randomly shuffling the values of each feature and observing the resulting change in model performance: the higher the value of PFI, the greater importance the feature has).\n",
    "\n",
    "To see how well the model fits the data, we will as reference parameter the **negative mean square error**, while also applying the <font color=green>kfold cross-validation technique</font> (we will use the default hyperparameters of each model, and the \"winner\" will be optimized in Part 3) - in this way, we can analyze the performance across multiple folds (NOTE: it must be applied only to the training set!)"
   ]
  },
  {
   "cell_type": "code",
   "execution_count": 74,
   "id": "9a3b0b26-e6a5-4df1-a03b-cae82b52fc83",
   "metadata": {},
   "outputs": [],
   "source": [
    "cultivars_df = pd.read_csv('data/data_Normalized.csv')\n",
    "cross_validation = KFold(n_splits=5, shuffle=True, random_state=42) #kfold cross-validation\n",
    "cv_list = []\n",
    "perm_list = []\n",
    "\n",
    "#print(cultivars_df.describe())\n",
    "#MHG std -> 0.22; GY std -> 0.14"
   ]
  },
  {
   "cell_type": "markdown",
   "id": "b21c8329-33f6-48c1-a57a-be5163e97f29",
   "metadata": {},
   "source": [
    "**#2.2.2.1) Multiple linear regression - analysis for MHG (std = 0.22)**"
   ]
  },
  {
   "cell_type": "code",
   "execution_count": 76,
   "id": "227c71b9-d620-4907-960b-0f723b9a9749",
   "metadata": {},
   "outputs": [],
   "source": [
    "x = cultivars_df.drop(['MHG', 'Density per meter/linear', 'NGP'], axis = 1) \n",
    "y = cultivars_df['MHG']  #target feature\n",
    "\n",
    "x_train, x_test, y_train, y_test = train_test_split(x, y, test_size=0.2, random_state=42)\n",
    "\n",
    "#selecting regression model\n",
    "model = LinearRegression()\n",
    "\n",
    "#applying kfold cross-validation\n",
    "cv_scores = cross_val_score(model, x_train, y_train, cv=cross_validation, scoring='neg_mean_squared_error')\n",
    "#cv_scores = cross_val_score(model, x_train, y_train, cv=kf, scoring='r2')\n",
    "cv_scores = -cv_scores\n",
    "\n",
    "#training the regression model\n",
    "model.fit(x_train, y_train)\n",
    "\n",
    "#computing permutation feature importance\n",
    "perm_importance = permutation_importance(model, x_train, y_train, n_repeats=10, random_state=42)\n",
    "dict_perm = dict(zip(x_train.columns, perm_importance['importances_mean']))\n",
    "\n",
    "#evaluating the model\n",
    "y_pred = model.predict(x_test)\n",
    "mse = mean_squared_error(y_test, y_pred)\n",
    "\n",
    "coefficients = pd.DataFrame({'Feature': x.columns, 'Coefficient': model.coef_})"
   ]
  },
  {
   "cell_type": "code",
   "execution_count": 77,
   "id": "939eb352-4269-4fca-b3fa-5b6bd0e68385",
   "metadata": {},
   "outputs": [
    {
     "name": "stdout",
     "output_type": "stream",
     "text": [
      "Model saved to models/MHG_MLR_unoptimzed.pkl\n"
     ]
    }
   ],
   "source": [
    "#saving model to pickle file\n",
    "fp = 'models/MHG_MLR_unoptimzed.pkl'\n",
    "with open(fp, 'wb') as f:\n",
    "    pickle.dump(model, f)\n",
    "\n",
    "print(\"Model saved to\", fp)"
   ]
  },
  {
   "cell_type": "code",
   "execution_count": 78,
   "id": "c3637b24-f7f3-4cfa-af59-d2a6f7d73d22",
   "metadata": {},
   "outputs": [
    {
     "name": "stdout",
     "output_type": "stream",
     "text": [
      "Cross-validation MSE scores: [0.0542823  0.04103913 0.03507176 0.03450802 0.04740966]\n",
      "Mean MSE (cross-validation - MLR MHG): 0.04246217421272118\n",
      "\n",
      "Permutation feature importance: {'Season': 0.2576093332646202, 'PH': 0.09474316787024469, 'Cultivar': 0.06706571834090189, 'Seeds per meter/linear': 0.048916223709433035, 'GY': 0.02321728215645179, 'IFP': 0.006887719864858133, 'NS': 0.004821996112663285, 'Repetition': 0.0037281226756506803, 'Maturation group': 0.0023207996627114813, 'NGL': 0.00033786539443049214, 'NLP': -0.00021869036883568339}\n",
      "\n",
      "Mean Squared Error (after_prediction):  0.04055145329743656\n",
      "\n",
      "Resulted coefficients for the model\n",
      "                   Feature  Coefficient\n",
      "0                   Season     0.157039\n",
      "1                 Cultivar    -0.141765\n",
      "2               Repetition     0.024373\n",
      "3                       PH    -0.259426\n",
      "4                      IFP     0.087017\n",
      "5                      NLP    -0.014320\n",
      "6                      NGL    -0.018320\n",
      "7                       NS    -0.061695\n",
      "8                       GY     0.165857\n",
      "9         Maturation group     0.045151\n",
      "10  Seeds per meter/linear     0.146170\n"
     ]
    }
   ],
   "source": [
    "print(\"Cross-validation MSE scores:\", cv_scores)\n",
    "print(\"Mean MSE (cross-validation - MLR MHG):\", cv_scores.mean()) #consistent scores\n",
    "\n",
    "sorted_dict = {k: v for k, v in sorted(dict_perm.items(), key=lambda item: -abs(item[1]))}\n",
    "print(\"\\nPermutation feature importance:\", sorted_dict)\n",
    "\n",
    "print(\"\\nMean Squared Error (after_prediction): \", mse)\n",
    "\n",
    "print(\"\\nResulted coefficients for the model\")\n",
    "print(coefficients)"
   ]
  },
  {
   "cell_type": "markdown",
   "id": "7a1de85a-3c97-4193-b2f9-44ace4b30967",
   "metadata": {},
   "source": [
    "Obtained result:\n",
    "- **Cross-validation mean MSE score**: 0.0425\n",
    "- **Model coefficients**: PH (-0.259), GY (0.166), Season number (0.157), Seeds per meter/ linear (0.146), Cultivar name (-0.141)\n",
    "- **Permutation feature importance**: Season number (0.258), PH (0.095), Cultivar name (0.067), Seeds per meter/linear (0.049), GY (0.023)"
   ]
  },
  {
   "cell_type": "markdown",
   "id": "18609db1-b67a-47e7-9b19-7db03e0e2c01",
   "metadata": {},
   "source": [
    "**#2.2.2.2) Multiple linear regression - analysis for GY (std = 0.14)**"
   ]
  },
  {
   "cell_type": "code",
   "execution_count": 79,
   "id": "15eaa432-cf30-4fce-9ff4-ee26268633ff",
   "metadata": {},
   "outputs": [],
   "source": [
    "x = cultivars_df.drop(['GY', 'Density per meter/linear', 'NGP'], axis = 1) \n",
    "y = cultivars_df['GY']  #target feature\n",
    "\n",
    "x_train, x_test, y_train, y_test = train_test_split(x, y, test_size=0.2, random_state=42)\n",
    "\n",
    "model = LinearRegression()\n",
    "\n",
    "cv_scores = cross_val_score(model, x_train, y_train, cv=cross_validation, scoring='neg_mean_squared_error')\n",
    "cv_scores = -cv_scores\n",
    "\n",
    "model.fit(x_train, y_train)\n",
    "\n",
    "perm_importance = permutation_importance(model, x_train, y_train, n_repeats=10, random_state=42)\n",
    "dict_perm = dict(zip(x_train.columns, perm_importance['importances_mean']))\n",
    "\n",
    "y_pred = model.predict(x_test)\n",
    "mse = mean_squared_error(y_test, y_pred)\n",
    "\n",
    "coefficients = pd.DataFrame({'Feature': x.columns, 'Coefficient': model.coef_})"
   ]
  },
  {
   "cell_type": "code",
   "execution_count": 80,
   "id": "4133b513-d1c7-4b93-9827-862d81ecee12",
   "metadata": {},
   "outputs": [
    {
     "name": "stdout",
     "output_type": "stream",
     "text": [
      "Model saved to models/GY_MLR_unoptimzed.pkl\n"
     ]
    }
   ],
   "source": [
    "fp = 'models/GY_MLR_unoptimzed.pkl'\n",
    "with open(fp, 'wb') as f:\n",
    "    pickle.dump(model, f)\n",
    "\n",
    "print(\"Model saved to\", fp)"
   ]
  },
  {
   "cell_type": "code",
   "execution_count": 81,
   "id": "d5b714c8-5217-4d63-b6e3-d2ca4c0dc305",
   "metadata": {},
   "outputs": [
    {
     "name": "stdout",
     "output_type": "stream",
     "text": [
      "Cross-validation MSE scores: [0.01999516 0.01793752 0.01591863 0.01561133 0.01206851]\n",
      "Mean MSE (cross-validation - MLC GY): 0.016306229660336\n",
      "\n",
      "Permutation feature importance: {'Maturation group': 0.35402457457175696, 'Cultivar': 0.2290189204009479, 'Seeds per meter/linear': 0.06461417267476607, 'MHG': 0.020228742171029324, 'PH': 0.017364997989410914, 'NGL': 0.017294184962788763, 'NS': 0.01695908996889638, 'IFP': 0.011518534797863179, 'Season': 0.002557236388453732, 'Repetition': 0.0012949595256393498, 'NLP': 0.000275890627895492}\n",
      "\n",
      "Mean Squared Error (after_prediction):  0.015903870353581914\n",
      "\n",
      "Resulted coefficients for the model\n",
      "                   Feature  Coefficient\n",
      "0                   Season     0.008813\n",
      "1                 Cultivar    -0.175185\n",
      "2               Repetition     0.012780\n",
      "3                       PH     0.075598\n",
      "4                      IFP     0.072912\n",
      "5                      NLP     0.015720\n",
      "6                      NGL     0.100757\n",
      "7                       NS     0.089508\n",
      "8                      MHG     0.063251\n",
      "9         Maturation group     0.393239\n",
      "10  Seeds per meter/linear    -0.105835\n"
     ]
    }
   ],
   "source": [
    "print(\"Cross-validation MSE scores:\", cv_scores)\n",
    "print(\"Mean MSE (cross-validation - MLC GY):\", cv_scores.mean()) #consistent scores\n",
    "\n",
    "sorted_dict = {k: v for k, v in sorted(dict_perm.items(), key=lambda item: -abs(item[1]))}\n",
    "print(\"\\nPermutation feature importance:\", sorted_dict)\n",
    "\n",
    "print(\"\\nMean Squared Error (after_prediction): \", mse)\n",
    "\n",
    "print(\"\\nResulted coefficients for the model\")\n",
    "print(coefficients)"
   ]
  },
  {
   "cell_type": "markdown",
   "id": "1fbe2649-cdee-4822-92c3-77893c4da1ab",
   "metadata": {},
   "source": [
    "Obtained result:\n",
    "- **Cross-validation mean MSE score**: 0.0163\n",
    "- **Model coefficients**: Maturation group (0.393), Cultivar name (-0.175), Seeds per meter/ linear (-0.106), NGL (0.101), NS (0.089)\n",
    "- **Permutation feature importance**: Maturation group (0.354), Cultivar name (0.229), Seeds per meter/ linear (0.065), MHG (0.020), PH (0.017)"
   ]
  },
  {
   "cell_type": "markdown",
   "id": "cf3ab3f6-7508-4e03-b85b-02d30042aa9a",
   "metadata": {},
   "source": [
    "**CONCLUSIONS (Multiple linear regression)**:\n",
    "- <font color=green>**MHG -> the situation is not so simple for this parameter, but three possible well-suited descriptors for it can be the Season number, Cultivar name and the Seeds per meter features**</font>; other possible descriptors: PH, GY\n",
    "- <font color=green>**GY -> seems like 3 good descriptors for this parameter are Maturation group, Cultivar Name and Seeds per meter/ linear**</font> (two of them also shown a good correlation coefficient with GY)\n",
    "- **MHG -> we have and cross-validation mean MSE score of 0.0425 for a std of 0.22 (MHG)**\n",
    "- **GY -> we have and cross-validation mean MSE score of 0.0163 for a std of 0.14 (GY)**"
   ]
  },
  {
   "cell_type": "markdown",
   "id": "fb9e962f-8ad5-4405-af54-e5183ee8b049",
   "metadata": {},
   "source": [
    "**#2.2.3) Random Forest regressor** (cross-validation mean squared error, **Gini importance**, permutation feature importance)"
   ]
  },
  {
   "cell_type": "markdown",
   "id": "0e6a1302-d524-40e5-9758-8cc90ed32689",
   "metadata": {},
   "source": [
    "blablabla"
   ]
  },
  {
   "cell_type": "code",
   "execution_count": 82,
   "id": "7b8b9c15-23f5-46e7-ae29-ea25bcb4049c",
   "metadata": {},
   "outputs": [],
   "source": [
    "cultivars_df = pd.read_csv('data/data_Normalized.csv')\n",
    "cross_validation = KFold(n_splits=5, shuffle=True, random_state=42) #kfold cross-validation\n",
    "cv_list = []\n",
    "perm_list = []\n",
    "\n",
    "#print(cultivars_df.describe())\n",
    "#MHG std -> 0.22; GY std -> 0.14"
   ]
  },
  {
   "cell_type": "markdown",
   "id": "d22bfac1-49eb-42b7-9625-8ff33667af8c",
   "metadata": {},
   "source": [
    "**#2.2.3.1) Random Forest regressor - analysis for MHG (std = 0.22)**"
   ]
  },
  {
   "cell_type": "code",
   "execution_count": 83,
   "id": "1cc3b78b-7db8-4385-a6f2-80359f8fb481",
   "metadata": {},
   "outputs": [],
   "source": [
    "x = cultivars_df.drop(['MHG', 'Density per meter/linear', 'NGP'], axis = 1) \n",
    "y = cultivars_df['MHG']  #target feature\n",
    "\n",
    "x_train, x_test, y_train, y_test = train_test_split(x, y, test_size=0.2, random_state=42)\n",
    "model = RandomForestRegressor(random_state=42)\n",
    "\n",
    "cv_scores = cross_val_score(model, x_train, y_train, cv=cross_validation, scoring='neg_mean_squared_error')\n",
    "cv_scores = -cv_scores\n",
    "\n",
    "model.fit(x_train, y_train)\n",
    "\n",
    "perm_importance = permutation_importance(model, x_train, y_train, n_repeats=10, random_state=42)\n",
    "dict_perm = dict(zip(x_train.columns, perm_importance['importances_mean']))\n",
    "\n",
    "#Gini importances\n",
    "importances = model.feature_importances_\n",
    "feature_importance_df = pd.DataFrame({'Feature': x_train.columns, 'Importance': importances})\n",
    "\n",
    "y_pred = model.predict(x_test)\n",
    "mse = mean_squared_error(y_test, y_pred)\n"
   ]
  },
  {
   "cell_type": "code",
   "execution_count": 56,
   "id": "a7d15073-9ad8-45d2-b59b-39abba31e920",
   "metadata": {},
   "outputs": [
    {
     "name": "stdout",
     "output_type": "stream",
     "text": [
      "Model saved to models/MHG_RFR_unoptimzed.pkl\n"
     ]
    }
   ],
   "source": [
    "#saving model to pickle file\n",
    "fp = 'models/MHG_RFR_unoptimzed.pkl'\n",
    "with open(fp, 'wb') as f:\n",
    "    pickle.dump(model, f)\n",
    "\n",
    "print(\"Model saved to\", fp)"
   ]
  },
  {
   "cell_type": "code",
   "execution_count": 85,
   "id": "ff4a57e3-0dbd-44ff-860e-2bc3ab5f4328",
   "metadata": {},
   "outputs": [
    {
     "name": "stdout",
     "output_type": "stream",
     "text": [
      "Cross-validation MSE scores: [0.01483771 0.01257531 0.0116486  0.01254708 0.02307626]\n",
      "Mean MSE (cross-validation - RFR MHG): 0.014936995313099288\n",
      "\n",
      "Permutation feature importance: {'Cultivar': 0.48661283506604464, 'Seeds per meter/linear': 0.3220884613769178, 'GY': 0.24813988261659628, 'Maturation group': 0.16147311808012227, 'PH': 0.09767981474831097, 'NS': 0.06177283978391958, 'Season': 0.05976056819136812, 'IFP': 0.04547153837932485, 'NLP': 0.031158726138924054, 'NGL': 0.02197920710491713, 'Repetition': 0.0056809085333480395}\n",
      "\n",
      "Mean Squared Error (after_prediction):  0.009907586510924313\n",
      "\n",
      "Resulted Gini importances:\n",
      "                   Feature  Importance\n",
      "1                 Cultivar    0.241116\n",
      "8                       GY    0.154384\n",
      "10  Seeds per meter/linear    0.135232\n",
      "9         Maturation group    0.128306\n",
      "3                       PH    0.082368\n",
      "7                       NS    0.066782\n",
      "4                      IFP    0.062585\n",
      "5                      NLP    0.043456\n",
      "0                   Season    0.039881\n",
      "6                      NGL    0.037263\n",
      "2               Repetition    0.008629\n"
     ]
    }
   ],
   "source": [
    "print(\"Cross-validation MSE scores:\", cv_scores)\n",
    "print(\"Mean MSE (cross-validation - RFR MHG):\", cv_scores.mean()) #consistent scores\n",
    "\n",
    "sorted_dict = {k: v for k, v in sorted(dict_perm.items(), key=lambda item: -abs(item[1]))}\n",
    "print(\"\\nPermutation feature importance:\", sorted_dict)\n",
    "\n",
    "print(\"\\nMean Squared Error (after_prediction): \", mse)\n",
    "\n",
    "feature_importance_df = feature_importance_df.sort_values(by='Importance', ascending=False)\n",
    "print(\"\\nResulted Gini importances:\")\n",
    "print(feature_importance_df)"
   ]
  },
  {
   "cell_type": "markdown",
   "id": "9efc807d-4fd8-4611-9c17-14e6742c1a46",
   "metadata": {},
   "source": [
    "Obtained result:\n",
    "- **Cross-validation mean MSE score**: 0.0149\n",
    "- **Permutation feature importance**: Cultivar name (0.486), Seeds per meter/ linear (0.322), GY (0.248), Maturation group (0.161), PH (0.098)\n",
    "- **Gini importances**: Cultivar name (0.241), GY (0.154), Seeds per meter/ linear (0.135), Maturation group (0.128), PH (0.082)"
   ]
  },
  {
   "cell_type": "markdown",
   "id": "3cea48d7-6dae-4273-a3fb-3c7218f60464",
   "metadata": {},
   "source": [
    "**#2.2.3.2) Random Forest regressor - analysis for GY (std = 0.14)**"
   ]
  },
  {
   "cell_type": "code",
   "execution_count": 86,
   "id": "f61d072b-b9af-4995-b5ba-294e6c949c80",
   "metadata": {},
   "outputs": [],
   "source": [
    "x = cultivars_df.drop(['GY', 'Density per meter/linear', 'NGP'], axis = 1) \n",
    "y = cultivars_df['GY']  #target feature\n",
    "\n",
    "x_train, x_test, y_train, y_test = train_test_split(x, y, test_size=0.2, random_state=42)\n",
    "model = RandomForestRegressor(random_state=42)\n",
    "\n",
    "cv_scores = cross_val_score(model, x_train, y_train, cv=cross_validation, scoring='neg_mean_squared_error')\n",
    "cv_scores = -cv_scores\n",
    "\n",
    "model.fit(x_train, y_train)\n",
    "\n",
    "perm_importance = permutation_importance(model, x_train, y_train, n_repeats=10, random_state=42)\n",
    "dict_perm = dict(zip(x_train.columns, perm_importance['importances_mean']))\n",
    "\n",
    "importances = model.feature_importances_ #Gini feature importance\n",
    "feature_importance_df = pd.DataFrame({'Feature': x_train.columns, 'Importance': importances})\n",
    "\n",
    "y_pred = model.predict(x_test)\n",
    "mse = mean_squared_error(y_test, y_pred)\n"
   ]
  },
  {
   "cell_type": "code",
   "execution_count": 87,
   "id": "35ea301a-905b-42ac-947e-eaa91b1219d6",
   "metadata": {},
   "outputs": [
    {
     "name": "stdout",
     "output_type": "stream",
     "text": [
      "Model saved to models/GY_RFR_unoptimzed.pkl\n"
     ]
    }
   ],
   "source": [
    "#saving model to pickle file\n",
    "fp = 'models/GY_RFR_unoptimzed.pkl'\n",
    "with open(fp, 'wb') as f:\n",
    "    pickle.dump(model, f)\n",
    "\n",
    "print(\"Model saved to\", fp)"
   ]
  },
  {
   "cell_type": "code",
   "execution_count": 88,
   "id": "4e38fcd7-c9f2-4a80-a68f-358efc51e0c2",
   "metadata": {},
   "outputs": [
    {
     "name": "stdout",
     "output_type": "stream",
     "text": [
      "Cross-validation MSE scores: [0.00797606 0.00719459 0.00737742 0.00765342 0.00529808]\n",
      "Mean MSE (cross-validation - RFR GY): 0.007099914456955882\n",
      "\n",
      "Permutation feature importance: {'Maturation group': 0.5507011194652621, 'MHG': 0.24053659738618713, 'Cultivar': 0.19278425554612416, 'Season': 0.13495609570207023, 'NS': 0.11718008800144102, 'Seeds per meter/linear': 0.09597601227917832, 'IFP': 0.0759098966937394, 'NLP': 0.05259659172032151, 'NGL': 0.051078321155546405, 'PH': 0.03738663130028417, 'Repetition': 0.004644960654435459}\n",
      "\n",
      "Mean Squared Error (after_prediction):  0.0069540129888686205\n",
      "\n",
      "Resulted Gini importances:\n",
      "                   Feature  Importance\n",
      "8                      MHG    0.168183\n",
      "9         Maturation group    0.156732\n",
      "1                 Cultivar    0.123402\n",
      "10  Seeds per meter/linear    0.111197\n",
      "7                       NS    0.108210\n",
      "4                      IFP    0.080055\n",
      "0                   Season    0.074718\n",
      "5                      NLP    0.060276\n",
      "6                      NGL    0.058158\n",
      "3                       PH    0.052221\n",
      "2               Repetition    0.006849\n"
     ]
    }
   ],
   "source": [
    "print(\"Cross-validation MSE scores:\", cv_scores)\n",
    "print(\"Mean MSE (cross-validation - RFR GY):\", cv_scores.mean()) #consistent scores\n",
    "\n",
    "sorted_dict = {k: v for k, v in sorted(dict_perm.items(), key=lambda item: -abs(item[1]))}\n",
    "print(\"\\nPermutation feature importance:\", sorted_dict)\n",
    "\n",
    "print(\"\\nMean Squared Error (after_prediction): \", mse)\n",
    "\n",
    "feature_importance_df = feature_importance_df.sort_values(by='Importance', ascending=False)\n",
    "print(\"\\nResulted Gini importances:\")\n",
    "print(feature_importance_df)"
   ]
  },
  {
   "cell_type": "markdown",
   "id": "b721dcd0-bf00-4eb2-8043-52d6a8faa63f",
   "metadata": {},
   "source": [
    "Obtained result:\n",
    "- **Cross-validation mean MSE score**: 0.0080\n",
    "- **Permutation feature importance**: Maturation group (0.551), MHG (0.240), Cultivar name (0.193), Season number (0.135), NS (0.117)\n",
    "- **Gini importances**: MHG (0.168), Maturation group (0.157), Cultivar name (0.123), Seeds per meter/ linear (0.111), NS (0.108)"
   ]
  },
  {
   "cell_type": "markdown",
   "id": "f679e602-3181-45aa-bc5a-43598cc554a6",
   "metadata": {},
   "source": [
    "**CONCLUSIONS (Random Forest regressor)**:\n",
    "- <font color=green>**MHG -> good descriptors: Cultivar name, Seeds per meter/ linear, Maturation group, PH (this time, it was easier to identify them - consistent descriptors scores/ order)**</font>; another possible descriptor: GY\n",
    "- <font color=green>**GY -> again, Maturation group, Cultivar Name and Seeds per meter/ linear can be used to describe in a meaningful way this parameter**</font>; another possible descriptor: MHG\n",
    "- **MHG -> we have and cross-validation mean MSE score of 0.0149 for a std of 0.22 (MHG), aprox 3 times smaller then the one of the Multiple Linear Regression**\n",
    "- **GY -> we have and cross-validation mean MSE score of 0.0080 for a std of 0.14 (GY), aprox 2 times smaller then the one of the Multiple Linear Regression**"
   ]
  },
  {
   "cell_type": "markdown",
   "id": "157a4dc0-0ddb-4563-89fe-388a24ce50e3",
   "metadata": {},
   "source": [
    "**#2.2.4) Gradient Boosting Machine** (cross-validation mean squared error, Gini importance, permutation feature importance)"
   ]
  },
  {
   "cell_type": "markdown",
   "id": "23ee4882-7203-493d-8fab-e156420bd05b",
   "metadata": {},
   "source": [
    "insert description"
   ]
  },
  {
   "cell_type": "code",
   "execution_count": 89,
   "id": "bf8c3012-3d0b-4d46-8d3d-adf89bf99c17",
   "metadata": {},
   "outputs": [],
   "source": [
    "cultivars_df = pd.read_csv('data/data_Normalized.csv')\n",
    "cross_validation = KFold(n_splits=5, shuffle=True, random_state=42) #kfold cross-validation\n",
    "cv_list = []\n",
    "perm_list = []\n",
    "\n",
    "#print(cultivars_df.describe())\n",
    "#MHG std -> 0.22; GY std -> 0.14"
   ]
  },
  {
   "cell_type": "markdown",
   "id": "97176237-5a3e-4ea7-b49b-c94dbabc09c4",
   "metadata": {},
   "source": [
    "**#2.2.4.1) Gradient Boosting Machine - analysis for MHG (std = 0.22)**"
   ]
  },
  {
   "cell_type": "code",
   "execution_count": 90,
   "id": "a5f86fbd-4a7d-49db-b8c6-65f90bbd3233",
   "metadata": {},
   "outputs": [],
   "source": [
    "x = cultivars_df.drop(['MHG', 'Density per meter/linear', 'NGP'], axis = 1) \n",
    "y = cultivars_df['MHG']  #target feature\n",
    "\n",
    "x_train, x_test, y_train, y_test = train_test_split(x, y, test_size=0.2, random_state=42)\n",
    "model = GradientBoostingRegressor(random_state=42)\n",
    "\n",
    "cv_scores = cross_val_score(model, x_train, y_train, cv=cross_validation, scoring='neg_mean_squared_error')\n",
    "cv_scores = -cv_scores\n",
    "\n",
    "model.fit(x_train, y_train)\n",
    "\n",
    "perm_importance = permutation_importance(model, x_train, y_train, n_repeats=10, random_state=42)\n",
    "dict_perm = dict(zip(x_train.columns, perm_importance['importances_mean']))\n",
    "\n",
    "importances = model.feature_importances_ #Gini feature importance\n",
    "feature_importance_df = pd.DataFrame({'Feature': x_train.columns, 'Importance': importances})\n",
    "\n",
    "y_pred = model.predict(x_test)\n",
    "mse = mean_squared_error(y_test, y_pred)"
   ]
  },
  {
   "cell_type": "code",
   "execution_count": 91,
   "id": "ee12bb9e-b985-4082-a40e-63c3a1e2cd12",
   "metadata": {},
   "outputs": [
    {
     "name": "stdout",
     "output_type": "stream",
     "text": [
      "Model saved to models/MHG_GBM_unoptimzed.pkl\n"
     ]
    }
   ],
   "source": [
    "#saving model to pickle file\n",
    "fp = 'models/MHG_GBM_unoptimzed.pkl'\n",
    "with open(fp, 'wb') as f:\n",
    "    pickle.dump(model, f)\n",
    "\n",
    "print(\"Model saved to\", fp)"
   ]
  },
  {
   "cell_type": "code",
   "execution_count": 92,
   "id": "fb15d1bb-f297-4045-a147-aa073afac414",
   "metadata": {},
   "outputs": [
    {
     "name": "stdout",
     "output_type": "stream",
     "text": [
      "Cross-validation MSE scores: [0.01384786 0.01580321 0.01005476 0.01089585 0.01640052]\n",
      "Mean MSE (cross-validation - GBM MHG): 0.01340044165723379\n",
      "\n",
      "Permutation feature importance: {'Cultivar': 0.3636777053424236, 'Maturation group': 0.24677735787409208, 'Seeds per meter/linear': 0.21907138962250414, 'GY': 0.21046844197661135, 'Season': 0.07762899538991914, 'PH': 0.06479912933220301, 'NS': 0.0641202726726779, 'IFP': 0.043867128567816174, 'NGL': 0.03190833920727043, 'NLP': 0.025905699145814733, 'Repetition': 0.00573453411798146}\n",
      "\n",
      "Mean Squared Error (after_prediction):  0.010258303309314848\n",
      "\n",
      "Resulted Gini importances:\n",
      "                   Feature  Importance\n",
      "1                 Cultivar    0.291127\n",
      "9         Maturation group    0.177704\n",
      "8                       GY    0.147718\n",
      "10  Seeds per meter/linear    0.133719\n",
      "3                       PH    0.062377\n",
      "7                       NS    0.051024\n",
      "4                      IFP    0.041147\n",
      "0                   Season    0.040305\n",
      "6                      NGL    0.029341\n",
      "5                      NLP    0.020725\n",
      "2               Repetition    0.004813\n"
     ]
    }
   ],
   "source": [
    "print(\"Cross-validation MSE scores:\", cv_scores)\n",
    "print(\"Mean MSE (cross-validation - GBM MHG):\", cv_scores.mean()) #consistent scores\n",
    "\n",
    "sorted_dict = {k: v for k, v in sorted(dict_perm.items(), key=lambda item: -abs(item[1]))}\n",
    "print(\"\\nPermutation feature importance:\", sorted_dict)\n",
    "\n",
    "print(\"\\nMean Squared Error (after_prediction): \", mse)\n",
    "\n",
    "feature_importance_df = feature_importance_df.sort_values(by='Importance', ascending=False)\n",
    "print(\"\\nResulted Gini importances:\")\n",
    "print(feature_importance_df)"
   ]
  },
  {
   "cell_type": "markdown",
   "id": "30bf70c1-5a4c-4b16-90d9-5284d1bf445f",
   "metadata": {},
   "source": [
    "Obtained result:\n",
    "- **Cross-validation mean MSE score**: 0.0134\n",
    "- **Permutation feature importance**: Cultivar name (0.364), Maturation group (0.247), Seeds per meter/ linear (0.219), GY (0.210), Season number (0.078)\n",
    "- **Gini importances**: Cultivar name (0.291), Maturation group (0.178), GY (0.147), Seeds per meter/ linear (0.134), PH (0.062)"
   ]
  },
  {
   "cell_type": "markdown",
   "id": "c143103b-fb3a-46f8-ba41-fe2a660cc1db",
   "metadata": {},
   "source": [
    "**#2.2.4.2) Gradient Boosting Machine  - analysis for GY (std = 0.14)**"
   ]
  },
  {
   "cell_type": "code",
   "execution_count": 93,
   "id": "7f1abd8c-305e-460e-a18c-64e7ecc6ab46",
   "metadata": {},
   "outputs": [],
   "source": [
    "x = cultivars_df.drop(['GY', 'Density per meter/linear', 'NGP'], axis = 1) \n",
    "y = cultivars_df['GY']  #target feature\n",
    "\n",
    "x_train, x_test, y_train, y_test = train_test_split(x, y, test_size=0.2, random_state=42)\n",
    "model = GradientBoostingRegressor(random_state=42)\n",
    "\n",
    "cv_scores = cross_val_score(model, x_train, y_train, cv=cross_validation, scoring='neg_mean_squared_error')\n",
    "cv_scores = -cv_scores\n",
    "\n",
    "model.fit(x_train, y_train)\n",
    "\n",
    "perm_importance = permutation_importance(model, x_train, y_train, n_repeats=10, random_state=42)\n",
    "dict_perm = dict(zip(x_train.columns, perm_importance['importances_mean']))\n",
    "\n",
    "importances = model.feature_importances_ #Gini feature importance\n",
    "feature_importance_df = pd.DataFrame({'Feature': x_train.columns, 'Importance': importances})\n",
    "\n",
    "y_pred = model.predict(x_test)\n",
    "mse = mean_squared_error(y_test, y_pred)"
   ]
  },
  {
   "cell_type": "code",
   "execution_count": 94,
   "id": "05f60342-19e6-4aeb-abcd-21bedb6aeb61",
   "metadata": {},
   "outputs": [
    {
     "name": "stdout",
     "output_type": "stream",
     "text": [
      "Model saved to models/GY_GBM_unoptimzed.pkl\n"
     ]
    }
   ],
   "source": [
    "#saving model to pickle file\n",
    "fp = 'models/GY_GBM_unoptimzed.pkl'\n",
    "with open(fp, 'wb') as f:\n",
    "    pickle.dump(model, f)\n",
    "\n",
    "print(\"Model saved to\", fp)"
   ]
  },
  {
   "cell_type": "code",
   "execution_count": 95,
   "id": "ba7581af-18b6-4af4-9245-86c7dec9885e",
   "metadata": {},
   "outputs": [
    {
     "name": "stdout",
     "output_type": "stream",
     "text": [
      "Cross-validation MSE scores: [0.00877275 0.00683981 0.01038914 0.00624737 0.00647337]\n",
      "Mean MSE (cross-validation - GBM GY): 0.007744489329157207\n",
      "\n",
      "Permutation feature importance: {'Maturation group': 0.4782279522446634, 'Cultivar': 0.16905664888666957, 'MHG': 0.15242114119660038, 'NS': 0.14348148044200443, 'IFP': 0.12041437221989484, 'Season': 0.08719923175430258, 'Seeds per meter/linear': 0.05879820133175033, 'PH': 0.05045317118382812, 'NGL': 0.03844437992221892, 'NLP': 0.03624606359753577, 'Repetition': 0.006718829227942291}\n",
      "\n",
      "Mean Squared Error (after_prediction):  0.009539097033369123\n",
      "\n",
      "Resulted Gini importances:\n",
      "                   Feature  Importance\n",
      "9         Maturation group    0.199810\n",
      "8                      MHG    0.165923\n",
      "1                 Cultivar    0.144336\n",
      "7                       NS    0.118504\n",
      "0                   Season    0.099831\n",
      "4                      IFP    0.075826\n",
      "10  Seeds per meter/linear    0.070676\n",
      "6                      NGL    0.046299\n",
      "5                      NLP    0.039824\n",
      "3                       PH    0.034589\n",
      "2               Repetition    0.004382\n"
     ]
    }
   ],
   "source": [
    "print(\"Cross-validation MSE scores:\", cv_scores)\n",
    "print(\"Mean MSE (cross-validation - GBM GY):\", cv_scores.mean()) #consistent scores\n",
    "\n",
    "sorted_dict = {k: v for k, v in sorted(dict_perm.items(), key=lambda item: -abs(item[1]))}\n",
    "print(\"\\nPermutation feature importance:\", sorted_dict)\n",
    "\n",
    "print(\"\\nMean Squared Error (after_prediction): \", mse)\n",
    "\n",
    "feature_importance_df = feature_importance_df.sort_values(by='Importance', ascending=False)\n",
    "print(\"\\nResulted Gini importances:\")\n",
    "print(feature_importance_df)"
   ]
  },
  {
   "cell_type": "markdown",
   "id": "c667db0b-30ba-4915-812c-713c8b87de36",
   "metadata": {},
   "source": [
    "Obtained result:\n",
    "- **Cross-validation mean MSE score**: 0.0077\n",
    "- **Permutation feature importance**: Maturation group (0.478), Cultivar name (0.169), MHG (0.152), NS (0.143), IFP (0.120)\n",
    "- **Gini importances**: Maturation group (0.199), MHG (0.166), Cultivar name (0.144), NS (0.118), Season number (0.099)"
   ]
  },
  {
   "cell_type": "markdown",
   "id": "506a881b-fa66-46af-8895-d2d2c14496fa",
   "metadata": {},
   "source": [
    "**CONCLUSIONS (Gradient Boosting Machine)**:\n",
    "- <font color=green>**MHG -> good descriptors: Cultivar name, Maturation group, Seeds sper meter/ linear**</font>; another possible regressor:GY\n",
    "- <font color=green>**GY -> good descriptors: Maturation group, Cultivar name, MHG**</font>; another possible descriptor: MHG, NS\n",
    "- **MHG -> we have and cross-validation mean MSE score of 0.0134 for a std of 0.22 (MHG), smaller then the one of Random Forest Regressor**\n",
    "- **GY -> we have and cross-validation mean MSE score of 0.0077 for a std of 0.14 (GY), smaller then the one of the Random Forest Regressor**"
   ]
  },
  {
   "cell_type": "markdown",
   "id": "90f07901-570b-44ff-9148-b22062cef0a5",
   "metadata": {},
   "source": [
    "<font color=blue>**#2.2) Factors determining MHG and GY - CONCLUSIONS** </font>"
   ]
  },
  {
   "cell_type": "markdown",
   "id": "1daa7b35-350d-4934-9b99-a9db55c33475",
   "metadata": {},
   "source": [
    "- We've obtained the smallest main squared error for Gradient Boosting Machine => <font color=green>**it seems like GBM is the best suitable for our data**</font> (although other tests should also be performed, the timeframe for this project is too small...)\n",
    "- After computing the correlation matrix and the feature importances metrics, we can say that the most important descriptors for <font color=green>**MHG are: Cultivar name, Seeds per meter/ linear, Maturation group and Season number**</font>\n",
    "- For the other case,  the most important descriptors for <font color=green>**GY are: Maturation group (very important), Seeds per meter/ linear, NS, Cultivar Name**</font>\n",
    "- Three of the main descriptors written above for MHG and GY coincide\n",
    "- Also, while using all the regressors, **we found that there is a little dependency between MHG and GY**\n",
    "- **IT SSEEMS LIKE IT WAS A GOOD IDEA TO INCLUDE THE DATA FROM THE SECOND TABLE, cultivars-description_corrected.ods!**\n",
    "- From my point of view, there is small problem in the fact that we found Cultivar name a main descriptor for both MHG and GY: as we said previously, there isn't any descriptor/ combination of descriptors that can fully describe every cultivar => <font color=red>**OTHER DESCRIPTORS SHOULD BE ALSO INTRODUCED IN THE TABLE(S) TO BETTER PREDICT MHG AND GY**</font>"
   ]
  },
  {
   "cell_type": "code",
   "execution_count": null,
   "id": "475ad288-d86b-454c-b12d-9e8724ff6e0f",
   "metadata": {},
   "outputs": [],
   "source": []
  }
 ],
 "metadata": {
  "kernelspec": {
   "display_name": "Python 3 (ipykernel)",
   "language": "python",
   "name": "python3"
  },
  "language_info": {
   "codemirror_mode": {
    "name": "ipython",
    "version": 3
   },
   "file_extension": ".py",
   "mimetype": "text/x-python",
   "name": "python",
   "nbconvert_exporter": "python",
   "pygments_lexer": "ipython3",
   "version": "3.11.5"
  }
 },
 "nbformat": 4,
 "nbformat_minor": 5
}
